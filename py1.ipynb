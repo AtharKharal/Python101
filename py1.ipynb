{
  "nbformat": 4,
  "nbformat_minor": 0,
  "metadata": {
    "colab": {
      "name": "py1.ipynb",
      "version": "0.3.2",
      "provenance": [],
      "include_colab_link": true
    },
    "kernelspec": {
      "name": "python3",
      "display_name": "Python 3"
    }
  },
  "cells": [
    {
      "cell_type": "markdown",
      "metadata": {
        "id": "view-in-github",
        "colab_type": "text"
      },
      "source": [
        "<a href=\"https://colab.research.google.com/github/MahreenAthar/Python101/blob/master/py1.ipynb\" target=\"_parent\"><img src=\"https://colab.research.google.com/assets/colab-badge.svg\" alt=\"Open In Colab\"/></a>"
      ]
    },
    {
      "metadata": {
        "id": "srJuONF4-ed5",
        "colab_type": "code",
        "outputId": "13473da7-04e9-4850-f0a0-ff6d133e1c25",
        "colab": {
          "base_uri": "https://localhost:8080/",
          "height": 34
        }
      },
      "cell_type": "code",
      "source": [
        "print(\"Hello world!\")"
      ],
      "execution_count": 0,
      "outputs": [
        {
          "output_type": "stream",
          "text": [
            "Hello world!\n"
          ],
          "name": "stdout"
        }
      ]
    },
    {
      "metadata": {
        "id": "kdV9kgIngu_2",
        "colab_type": "code",
        "outputId": "2b78a369-dd0a-424b-da13-3e9bb31b7b7c",
        "colab": {
          "base_uri": "https://localhost:8080/",
          "height": 51
        }
      },
      "cell_type": "code",
      "source": [
        "from __future__ import division\n",
        "class rect:\n",
        "    def __init__(self):\n",
        "        self.l=5\n",
        "        self.b=8\n",
        "    def area(self):\n",
        "        print('Area of rectangle is: ',self.l*self.b )\n",
        "class triangle(rect):\n",
        "    def __init__(self):\n",
        "        rect.__init__(self)\n",
        "        self.x=17\n",
        "        self.y=13\n",
        "    def area(self):\n",
        "        rect.area(self)\n",
        "        print('Area of the triangle is: ', 1/2*self.x*self.y)\n",
        "r=triangle()\n",
        "r.area()"
      ],
      "execution_count": 1,
      "outputs": [
        {
          "output_type": "stream",
          "text": [
            "Area of rectangle is:  40\n",
            "Area of the triangle is:  110.5\n"
          ],
          "name": "stdout"
        }
      ]
    }
  ]
}